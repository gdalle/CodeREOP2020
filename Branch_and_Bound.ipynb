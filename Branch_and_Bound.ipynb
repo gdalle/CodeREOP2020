{
 "cells": [
  {
   "cell_type": "code",
   "execution_count": null,
   "metadata": {
    "ExecuteTime": {
     "end_time": "2020-11-24T15:53:01.641000+01:00",
     "start_time": "2020-11-24T14:52:53.626Z"
    }
   },
   "outputs": [],
   "source": [
    "using GLPK\n",
    "using JuMP"
   ]
  },
  {
   "cell_type": "markdown",
   "metadata": {},
   "source": [
    "# Branch & Bound"
   ]
  },
  {
   "cell_type": "markdown",
   "metadata": {},
   "source": [
    "Solve the the following MILP by applying B&B:\n",
    "\n",
    "\\begin{align*}\n",
    " \\min & -5.5 x_1 - 2.1 x_2 \\\\\n",
    " \\mathrm{s.t.} & -x_1 + x_2 \\leq 2 \\\\\n",
    " & 8 x_1 + 2 x_2 \\leq 17 \\\\\n",
    " & x_1, x_2 \\geq 0 \\\\\n",
    " & x_1, x_2 \\in \\mathbb{Z}\n",
    "\\end{align*}"
   ]
  },
  {
   "cell_type": "code",
   "execution_count": null,
   "metadata": {
    "ExecuteTime": {
     "end_time": "2020-11-24T15:53:04.657000+01:00",
     "start_time": "2020-11-24T14:52:53.670Z"
    }
   },
   "outputs": [],
   "source": [
    "function initial_problem()\n",
    "    m = Model(GLPK.Optimizer)\n",
    "\n",
    "    @variable(m, x[1:2])\n",
    "\n",
    "    @objective(m, Min, -5.5*m[:x][1] - 2.1*m[:x][2])\n",
    "\n",
    "    @constraint(m, -m[:x][1] + m[:x][2] <= 2)\n",
    "    @constraint(m, 8*m[:x][1] + 2*m[:x][2] <= 17)\n",
    "    @constraint(m, m[:x] .>= 0)\n",
    "    \n",
    "    return m\n",
    "end"
   ]
  },
  {
   "cell_type": "code",
   "execution_count": null,
   "metadata": {
    "ExecuteTime": {
     "end_time": "2020-11-24T15:53:04.721000+01:00",
     "start_time": "2020-11-24T14:52:53.674Z"
    }
   },
   "outputs": [],
   "source": [
    "function solve_and_print!(LP)\n",
    "    optimize!(LP)\n",
    "    println(\"Termination status: \", termination_status(LP))\n",
    "    println(\"Objective value = \", objective_value(LP))\n",
    "    println(\"Optimal x = \", value.(LP[:x]))\n",
    "end"
   ]
  },
  {
   "cell_type": "markdown",
   "metadata": {},
   "source": [
    "## Root node LP0"
   ]
  },
  {
   "cell_type": "code",
   "execution_count": null,
   "metadata": {
    "ExecuteTime": {
     "end_time": "2020-11-24T15:53:11.220000+01:00",
     "start_time": "2020-11-24T14:52:53.683Z"
    }
   },
   "outputs": [],
   "source": [
    "LP0 = initial_problem()"
   ]
  },
  {
   "cell_type": "code",
   "execution_count": null,
   "metadata": {
    "ExecuteTime": {
     "end_time": "2020-11-24T15:53:18.291000+01:00",
     "start_time": "2020-11-24T14:52:53.685Z"
    }
   },
   "outputs": [],
   "source": [
    "solve_and_print!(LP0)"
   ]
  },
  {
   "cell_type": "markdown",
   "metadata": {},
   "source": [
    "What is the status of node LP0 ? Do we need to branch on it ?"
   ]
  },
  {
   "cell_type": "markdown",
   "metadata": {},
   "source": [
    "## Branch on LP0"
   ]
  },
  {
   "cell_type": "markdown",
   "metadata": {},
   "source": [
    "### First child: $x_1 \\leq \\mathrm{?}$ "
   ]
  },
  {
   "cell_type": "code",
   "execution_count": null,
   "metadata": {
    "ExecuteTime": {
     "end_time": "2020-11-24T15:53:18.315000+01:00",
     "start_time": "2020-11-24T14:52:53.709Z"
    }
   },
   "outputs": [],
   "source": [
    "LP1 = initial_problem()\n",
    "# Add branching constraints\n",
    "\n",
    "# (end)\n",
    "LP1"
   ]
  },
  {
   "cell_type": "code",
   "execution_count": null,
   "metadata": {
    "ExecuteTime": {
     "end_time": "2020-11-24T15:53:18.316000+01:00",
     "start_time": "2020-11-24T14:52:53.710Z"
    }
   },
   "outputs": [],
   "source": [
    "solve_and_print!(LP1)"
   ]
  },
  {
   "cell_type": "markdown",
   "metadata": {
    "ExecuteTime": {
     "end_time": "2020-11-24T14:46:40.612000+01:00",
     "start_time": "2020-11-24T13:46:40.579Z"
    }
   },
   "source": [
    "What is the status of node LP1 ? Do we need to branch on it ?"
   ]
  },
  {
   "cell_type": "markdown",
   "metadata": {},
   "source": [
    "### Second child: $x_1 \\geq \\mathrm{?}$ "
   ]
  },
  {
   "cell_type": "code",
   "execution_count": null,
   "metadata": {
    "ExecuteTime": {
     "end_time": "2020-11-24T15:53:18.324000+01:00",
     "start_time": "2020-11-24T14:52:53.722Z"
    }
   },
   "outputs": [],
   "source": [
    "LP2 = initial_problem()\n",
    "# Add branching constraints\n",
    "\n",
    "# (end)\n",
    "LP2"
   ]
  },
  {
   "cell_type": "code",
   "execution_count": null,
   "metadata": {
    "ExecuteTime": {
     "end_time": "2020-11-24T15:53:18.325000+01:00",
     "start_time": "2020-11-24T14:52:53.724Z"
    },
    "scrolled": true
   },
   "outputs": [],
   "source": [
    "solve_and_print!(LP2)"
   ]
  },
  {
   "cell_type": "markdown",
   "metadata": {},
   "source": [
    "What is the status of node LP2 ? Do we need to branch on it ?"
   ]
  },
  {
   "cell_type": "markdown",
   "metadata": {},
   "source": [
    "## Branch on LP2"
   ]
  },
  {
   "cell_type": "markdown",
   "metadata": {},
   "source": [
    "### First child: $x_2 \\leq \\mathrm{?}$"
   ]
  },
  {
   "cell_type": "code",
   "execution_count": null,
   "metadata": {
    "ExecuteTime": {
     "end_time": "2020-11-24T15:53:18.328000+01:00",
     "start_time": "2020-11-24T14:52:53.740Z"
    }
   },
   "outputs": [],
   "source": [
    "LP3 = initial_problem()\n",
    "# Add branching constraints\n",
    "\n",
    "\n",
    "# (end)\n",
    "LP3"
   ]
  },
  {
   "cell_type": "code",
   "execution_count": null,
   "metadata": {
    "ExecuteTime": {
     "end_time": "2020-11-24T15:53:18.328000+01:00",
     "start_time": "2020-11-24T14:52:53.743Z"
    }
   },
   "outputs": [],
   "source": [
    "solve_and_print!(LP3)"
   ]
  },
  {
   "cell_type": "markdown",
   "metadata": {},
   "source": [
    "### Second child: $x_2 \\geq \\mathrm{?}$"
   ]
  },
  {
   "cell_type": "code",
   "execution_count": null,
   "metadata": {
    "ExecuteTime": {
     "end_time": "2020-11-24T15:53:18.331000+01:00",
     "start_time": "2020-11-24T14:52:53.753Z"
    }
   },
   "outputs": [],
   "source": [
    "LP4 = initial_problem()\n",
    "# Add branching constraints\n",
    "\n",
    "\n",
    "# (end)\n",
    "LP4"
   ]
  },
  {
   "cell_type": "code",
   "execution_count": null,
   "metadata": {
    "ExecuteTime": {
     "end_time": "2020-11-24T15:53:18.332000+01:00",
     "start_time": "2020-11-24T14:52:53.757Z"
    }
   },
   "outputs": [],
   "source": [
    "solve_and_print!(LP4)"
   ]
  },
  {
   "cell_type": "markdown",
   "metadata": {},
   "source": [
    "## Conclusion"
   ]
  },
  {
   "cell_type": "markdown",
   "metadata": {},
   "source": [
    "### What is the optimal solution?"
   ]
  },
  {
   "cell_type": "markdown",
   "metadata": {},
   "source": []
  },
  {
   "cell_type": "markdown",
   "metadata": {},
   "source": [
    "### Justify by drawing the B&B tree."
   ]
  },
  {
   "cell_type": "markdown",
   "metadata": {},
   "source": []
  }
 ],
 "metadata": {
  "kernelspec": {
   "display_name": "Julia 1.5.2",
   "language": "julia",
   "name": "julia-1.5"
  },
  "language_info": {
   "file_extension": ".jl",
   "mimetype": "application/julia",
   "name": "julia",
   "version": "1.5.2"
  },
  "latex_envs": {
   "LaTeX_envs_menu_present": true,
   "autoclose": false,
   "autocomplete": true,
   "bibliofile": "biblio.bib",
   "cite_by": "apalike",
   "current_citInitial": 1,
   "eqLabelWithNumbers": true,
   "eqNumInitial": 1,
   "hotkeys": {
    "equation": "Ctrl-E",
    "itemize": "Ctrl-I"
   },
   "labels_anchors": false,
   "latex_user_defs": false,
   "report_style_numbering": false,
   "user_envs_cfg": false
  }
 },
 "nbformat": 4,
 "nbformat_minor": 4
}
