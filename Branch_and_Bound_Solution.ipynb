{
 "cells": [
  {
   "cell_type": "code",
   "execution_count": 1,
   "metadata": {
    "ExecuteTime": {
     "end_time": "2020-11-24T15:53:01.641000+01:00",
     "start_time": "2020-11-24T14:52:53.626Z"
    }
   },
   "outputs": [],
   "source": [
    "using GLPK\n",
    "using JuMP"
   ]
  },
  {
   "cell_type": "markdown",
   "metadata": {},
   "source": [
    "# Branch & Bound"
   ]
  },
  {
   "cell_type": "markdown",
   "metadata": {},
   "source": [
    "Solve the the following MILP by applying B&B:\n",
    "\n",
    "\\begin{align*}\n",
    " \\min & -5.5 x_1 - 2.1 x_2 \\\\\n",
    " \\mathrm{s.t.} & -x_1 + x_2 \\leq 2 \\\\\n",
    " & 8 x_1 + 2 x_2 \\leq 17 \\\\\n",
    " & x_1, x_2 \\geq 0 \\\\\n",
    " & x_1, x_2 \\in \\mathbb{Z}\n",
    "\\end{align*}"
   ]
  },
  {
   "cell_type": "code",
   "execution_count": 2,
   "metadata": {
    "ExecuteTime": {
     "end_time": "2020-11-24T15:53:04.657000+01:00",
     "start_time": "2020-11-24T14:52:53.670Z"
    }
   },
   "outputs": [
    {
     "data": {
      "text/plain": [
       "initial_problem (generic function with 1 method)"
      ]
     },
     "execution_count": 2,
     "metadata": {},
     "output_type": "execute_result"
    }
   ],
   "source": [
    "function initial_problem()\n",
    "    m = Model(GLPK.Optimizer)\n",
    "\n",
    "    @variable(m, x[1:2])\n",
    "\n",
    "    @objective(m, Min, -5.5*m[:x][1] - 2.1*m[:x][2])\n",
    "\n",
    "    @constraint(m, -m[:x][1] + m[:x][2] <= 2)\n",
    "    @constraint(m, 8*m[:x][1] + 2*m[:x][2] <= 17)\n",
    "    @constraint(m, m[:x] .>= 0)\n",
    "    \n",
    "    return m\n",
    "end"
   ]
  },
  {
   "cell_type": "code",
   "execution_count": 3,
   "metadata": {
    "ExecuteTime": {
     "end_time": "2020-11-24T15:53:04.721000+01:00",
     "start_time": "2020-11-24T14:52:53.674Z"
    }
   },
   "outputs": [
    {
     "data": {
      "text/plain": [
       "solve_and_print! (generic function with 1 method)"
      ]
     },
     "execution_count": 3,
     "metadata": {},
     "output_type": "execute_result"
    }
   ],
   "source": [
    "function solve_and_print!(LP)\n",
    "    optimize!(LP)\n",
    "    println(\"Termination status: \", termination_status(LP))\n",
    "    println(\"Objective value = \", objective_value(LP))\n",
    "    println(\"Optimal x = \", value.(LP[:x]))\n",
    "end"
   ]
  },
  {
   "cell_type": "markdown",
   "metadata": {},
   "source": [
    "## Root node LP0"
   ]
  },
  {
   "cell_type": "code",
   "execution_count": 4,
   "metadata": {
    "ExecuteTime": {
     "end_time": "2020-11-24T15:53:11.220000+01:00",
     "start_time": "2020-11-24T14:52:53.683Z"
    }
   },
   "outputs": [
    {
     "data": {
      "text/latex": [
       "$$ \\begin{alignat*}{1}\\min\\quad & -5.5 x_{1} - 2.1 x_{2}\\\\\n",
       "\\text{Subject to} \\quad & x_{1} \\geq 0.0\\\\\n",
       " & x_{2} \\geq 0.0\\\\\n",
       " & -x_{1} + x_{2} \\leq 2.0\\\\\n",
       " & 8 x_{1} + 2 x_{2} \\leq 17.0\\\\\n",
       "\\end{alignat*}\n",
       " $$"
      ],
      "text/plain": [
       "A JuMP Model\n",
       "Minimization problem with:\n",
       "Variables: 2\n",
       "Objective function type: GenericAffExpr{Float64,VariableRef}\n",
       "`GenericAffExpr{Float64,VariableRef}`-in-`MathOptInterface.GreaterThan{Float64}`: 2 constraints\n",
       "`GenericAffExpr{Float64,VariableRef}`-in-`MathOptInterface.LessThan{Float64}`: 2 constraints\n",
       "Model mode: AUTOMATIC\n",
       "CachingOptimizer state: EMPTY_OPTIMIZER\n",
       "Solver name: GLPK\n",
       "Names registered in the model: x"
      ]
     },
     "execution_count": 4,
     "metadata": {},
     "output_type": "execute_result"
    }
   ],
   "source": [
    "LP0 = initial_problem()"
   ]
  },
  {
   "cell_type": "code",
   "execution_count": 5,
   "metadata": {
    "ExecuteTime": {
     "end_time": "2020-11-24T15:53:18.291000+01:00",
     "start_time": "2020-11-24T14:52:53.685Z"
    }
   },
   "outputs": [
    {
     "name": "stdout",
     "output_type": "stream",
     "text": [
      "Termination status: OPTIMAL\n",
      "Objective value = -14.08\n",
      "Optimal x = [1.3, 3.3]\n"
     ]
    }
   ],
   "source": [
    "solve_and_print!(LP0)"
   ]
  },
  {
   "cell_type": "markdown",
   "metadata": {},
   "source": [
    "What is the status of node LP0 ? Do we need to branch on it ?"
   ]
  },
  {
   "cell_type": "markdown",
   "metadata": {},
   "source": [
    "## Branch on LP0"
   ]
  },
  {
   "cell_type": "markdown",
   "metadata": {},
   "source": [
    "### First child: $x_1 \\leq \\mathrm{?}$ "
   ]
  },
  {
   "cell_type": "code",
   "execution_count": 6,
   "metadata": {
    "ExecuteTime": {
     "end_time": "2020-11-24T15:53:18.315000+01:00",
     "start_time": "2020-11-24T14:52:53.709Z"
    }
   },
   "outputs": [
    {
     "data": {
      "text/latex": [
       "$$ \\begin{alignat*}{1}\\min\\quad & -5.5 x_{1} - 2.1 x_{2}\\\\\n",
       "\\text{Subject to} \\quad & x_{1} \\geq 0.0\\\\\n",
       " & x_{2} \\geq 0.0\\\\\n",
       " & -x_{1} + x_{2} \\leq 2.0\\\\\n",
       " & 8 x_{1} + 2 x_{2} \\leq 17.0\\\\\n",
       " & x_{1} \\leq 1.0\\\\\n",
       "\\end{alignat*}\n",
       " $$"
      ],
      "text/plain": [
       "A JuMP Model\n",
       "Minimization problem with:\n",
       "Variables: 2\n",
       "Objective function type: GenericAffExpr{Float64,VariableRef}\n",
       "`GenericAffExpr{Float64,VariableRef}`-in-`MathOptInterface.GreaterThan{Float64}`: 2 constraints\n",
       "`GenericAffExpr{Float64,VariableRef}`-in-`MathOptInterface.LessThan{Float64}`: 3 constraints\n",
       "Model mode: AUTOMATIC\n",
       "CachingOptimizer state: EMPTY_OPTIMIZER\n",
       "Solver name: GLPK\n",
       "Names registered in the model: x"
      ]
     },
     "execution_count": 6,
     "metadata": {},
     "output_type": "execute_result"
    }
   ],
   "source": [
    "LP1 = initial_problem()\n",
    "# Add branching constraints\n",
    "@constraint(LP1, LP1[:x][1] <= 1)\n",
    "LP1"
   ]
  },
  {
   "cell_type": "code",
   "execution_count": 7,
   "metadata": {
    "ExecuteTime": {
     "end_time": "2020-11-24T15:53:18.316000+01:00",
     "start_time": "2020-11-24T14:52:53.710Z"
    }
   },
   "outputs": [
    {
     "name": "stdout",
     "output_type": "stream",
     "text": [
      "Termination status: OPTIMAL\n",
      "Objective value = -11.8\n",
      "Optimal x = [1.0, 3.0]\n"
     ]
    }
   ],
   "source": [
    "solve_and_print!(LP1)"
   ]
  },
  {
   "cell_type": "markdown",
   "metadata": {
    "ExecuteTime": {
     "end_time": "2020-11-24T14:46:40.612000+01:00",
     "start_time": "2020-11-24T13:46:40.579Z"
    }
   },
   "source": [
    "What is the status of node LP1 ? Do we need to branch on it ?"
   ]
  },
  {
   "cell_type": "markdown",
   "metadata": {},
   "source": [
    "### Second child: $x_1 \\geq \\mathrm{?}$ "
   ]
  },
  {
   "cell_type": "code",
   "execution_count": 8,
   "metadata": {
    "ExecuteTime": {
     "end_time": "2020-11-24T15:53:18.324000+01:00",
     "start_time": "2020-11-24T14:52:53.722Z"
    }
   },
   "outputs": [
    {
     "data": {
      "text/latex": [
       "$$ \\begin{alignat*}{1}\\min\\quad & -5.5 x_{1} - 2.1 x_{2}\\\\\n",
       "\\text{Subject to} \\quad & x_{1} \\geq 0.0\\\\\n",
       " & x_{2} \\geq 0.0\\\\\n",
       " & x_{1} \\geq 2.0\\\\\n",
       " & -x_{1} + x_{2} \\leq 2.0\\\\\n",
       " & 8 x_{1} + 2 x_{2} \\leq 17.0\\\\\n",
       "\\end{alignat*}\n",
       " $$"
      ],
      "text/plain": [
       "A JuMP Model\n",
       "Minimization problem with:\n",
       "Variables: 2\n",
       "Objective function type: GenericAffExpr{Float64,VariableRef}\n",
       "`GenericAffExpr{Float64,VariableRef}`-in-`MathOptInterface.GreaterThan{Float64}`: 3 constraints\n",
       "`GenericAffExpr{Float64,VariableRef}`-in-`MathOptInterface.LessThan{Float64}`: 2 constraints\n",
       "Model mode: AUTOMATIC\n",
       "CachingOptimizer state: EMPTY_OPTIMIZER\n",
       "Solver name: GLPK\n",
       "Names registered in the model: x"
      ]
     },
     "execution_count": 8,
     "metadata": {},
     "output_type": "execute_result"
    }
   ],
   "source": [
    "LP2 = initial_problem()\n",
    "# Add branching constraints\n",
    "@constraint(LP2, LP2[:x][1] >= 2)\n",
    "LP2"
   ]
  },
  {
   "cell_type": "code",
   "execution_count": 9,
   "metadata": {
    "ExecuteTime": {
     "end_time": "2020-11-24T15:53:18.325000+01:00",
     "start_time": "2020-11-24T14:52:53.724Z"
    },
    "scrolled": true
   },
   "outputs": [
    {
     "name": "stdout",
     "output_type": "stream",
     "text": [
      "Termination status: OPTIMAL\n",
      "Objective value = -12.05\n",
      "Optimal x = [2.0, 0.5]\n"
     ]
    }
   ],
   "source": [
    "solve_and_print!(LP2)"
   ]
  },
  {
   "cell_type": "markdown",
   "metadata": {},
   "source": [
    "What is the status of node LP2 ? Do we need to branch on it ?"
   ]
  },
  {
   "cell_type": "markdown",
   "metadata": {},
   "source": [
    "## Branch on LP2"
   ]
  },
  {
   "cell_type": "markdown",
   "metadata": {},
   "source": [
    "### First child: $x_2 \\leq \\mathrm{?}$"
   ]
  },
  {
   "cell_type": "code",
   "execution_count": 10,
   "metadata": {
    "ExecuteTime": {
     "end_time": "2020-11-24T15:53:18.328000+01:00",
     "start_time": "2020-11-24T14:52:53.740Z"
    }
   },
   "outputs": [
    {
     "data": {
      "text/latex": [
       "$$ \\begin{alignat*}{1}\\min\\quad & -5.5 x_{1} - 2.1 x_{2}\\\\\n",
       "\\text{Subject to} \\quad & x_{1} \\geq 0.0\\\\\n",
       " & x_{2} \\geq 0.0\\\\\n",
       " & x_{1} \\geq 2.0\\\\\n",
       " & -x_{1} + x_{2} \\leq 2.0\\\\\n",
       " & 8 x_{1} + 2 x_{2} \\leq 17.0\\\\\n",
       " & x_{2} \\leq 0.0\\\\\n",
       "\\end{alignat*}\n",
       " $$"
      ],
      "text/plain": [
       "A JuMP Model\n",
       "Minimization problem with:\n",
       "Variables: 2\n",
       "Objective function type: GenericAffExpr{Float64,VariableRef}\n",
       "`GenericAffExpr{Float64,VariableRef}`-in-`MathOptInterface.GreaterThan{Float64}`: 3 constraints\n",
       "`GenericAffExpr{Float64,VariableRef}`-in-`MathOptInterface.LessThan{Float64}`: 3 constraints\n",
       "Model mode: AUTOMATIC\n",
       "CachingOptimizer state: EMPTY_OPTIMIZER\n",
       "Solver name: GLPK\n",
       "Names registered in the model: x"
      ]
     },
     "execution_count": 10,
     "metadata": {},
     "output_type": "execute_result"
    }
   ],
   "source": [
    "LP3 = initial_problem()\n",
    "# Add branching constraints\n",
    "@constraint(LP3, LP3[:x][1] >= 2)\n",
    "@constraint(LP3, LP3[:x][2] <= 0)\n",
    "LP3"
   ]
  },
  {
   "cell_type": "code",
   "execution_count": 11,
   "metadata": {
    "ExecuteTime": {
     "end_time": "2020-11-24T15:53:18.328000+01:00",
     "start_time": "2020-11-24T14:52:53.743Z"
    }
   },
   "outputs": [
    {
     "name": "stdout",
     "output_type": "stream",
     "text": [
      "Termination status: OPTIMAL\n",
      "Objective value = -11.6875\n",
      "Optimal x = [2.125, 0.0]\n"
     ]
    }
   ],
   "source": [
    "solve_and_print!(LP3)"
   ]
  },
  {
   "cell_type": "markdown",
   "metadata": {},
   "source": [
    "### Second child: $x_2 \\geq \\mathrm{?}$"
   ]
  },
  {
   "cell_type": "code",
   "execution_count": 12,
   "metadata": {
    "ExecuteTime": {
     "end_time": "2020-11-24T15:53:18.331000+01:00",
     "start_time": "2020-11-24T14:52:53.753Z"
    }
   },
   "outputs": [
    {
     "data": {
      "text/latex": [
       "$$ \\begin{alignat*}{1}\\min\\quad & -5.5 x_{1} - 2.1 x_{2}\\\\\n",
       "\\text{Subject to} \\quad & x_{1} \\geq 0.0\\\\\n",
       " & x_{2} \\geq 0.0\\\\\n",
       " & x_{1} \\geq 2.0\\\\\n",
       " & x_{2} \\geq 1.0\\\\\n",
       " & -x_{1} + x_{2} \\leq 2.0\\\\\n",
       " & 8 x_{1} + 2 x_{2} \\leq 17.0\\\\\n",
       "\\end{alignat*}\n",
       " $$"
      ],
      "text/plain": [
       "A JuMP Model\n",
       "Minimization problem with:\n",
       "Variables: 2\n",
       "Objective function type: GenericAffExpr{Float64,VariableRef}\n",
       "`GenericAffExpr{Float64,VariableRef}`-in-`MathOptInterface.GreaterThan{Float64}`: 4 constraints\n",
       "`GenericAffExpr{Float64,VariableRef}`-in-`MathOptInterface.LessThan{Float64}`: 2 constraints\n",
       "Model mode: AUTOMATIC\n",
       "CachingOptimizer state: EMPTY_OPTIMIZER\n",
       "Solver name: GLPK\n",
       "Names registered in the model: x"
      ]
     },
     "execution_count": 12,
     "metadata": {},
     "output_type": "execute_result"
    }
   ],
   "source": [
    "LP4 = initial_problem()\n",
    "# Add branching constraints\n",
    "@constraint(LP4, LP4[:x][1] >= 2)\n",
    "@constraint(LP4, LP4[:x][2] >= 1)\n",
    "LP4"
   ]
  },
  {
   "cell_type": "code",
   "execution_count": 13,
   "metadata": {
    "ExecuteTime": {
     "end_time": "2020-11-24T15:53:18.332000+01:00",
     "start_time": "2020-11-24T14:52:53.757Z"
    }
   },
   "outputs": [
    {
     "name": "stdout",
     "output_type": "stream",
     "text": [
      "Termination status: INFEASIBLE\n",
      "Objective value = -12.05\n",
      "Optimal x = [2.0, 0.5]\n"
     ]
    }
   ],
   "source": [
    "solve_and_print!(LP4)"
   ]
  },
  {
   "cell_type": "markdown",
   "metadata": {},
   "source": [
    "## Conclusion"
   ]
  },
  {
   "cell_type": "markdown",
   "metadata": {},
   "source": [
    "### What is the optimal solution?"
   ]
  },
  {
   "cell_type": "markdown",
   "metadata": {},
   "source": []
  },
  {
   "cell_type": "markdown",
   "metadata": {},
   "source": [
    "### Justify by drawing the B&B tree."
   ]
  },
  {
   "cell_type": "markdown",
   "metadata": {},
   "source": []
  }
 ],
 "metadata": {
  "kernelspec": {
   "display_name": "Julia 1.5.2",
   "language": "julia",
   "name": "julia-1.5"
  },
  "language_info": {
   "file_extension": ".jl",
   "mimetype": "application/julia",
   "name": "julia",
   "version": "1.5.2"
  },
  "latex_envs": {
   "LaTeX_envs_menu_present": true,
   "autoclose": false,
   "autocomplete": true,
   "bibliofile": "biblio.bib",
   "cite_by": "apalike",
   "current_citInitial": 1,
   "eqLabelWithNumbers": true,
   "eqNumInitial": 1,
   "hotkeys": {
    "equation": "Ctrl-E",
    "itemize": "Ctrl-I"
   },
   "labels_anchors": false,
   "latex_user_defs": false,
   "report_style_numbering": false,
   "user_envs_cfg": false
  }
 },
 "nbformat": 4,
 "nbformat_minor": 4
}
